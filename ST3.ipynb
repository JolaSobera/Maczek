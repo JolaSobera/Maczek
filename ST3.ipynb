{
  "nbformat": 4,
  "nbformat_minor": 0,
  "metadata": {
    "colab": {
      "provenance": [],
      "authorship_tag": "ABX9TyNPnnS289JdCX8TFzgbRgn1",
      "include_colab_link": true
    },
    "kernelspec": {
      "name": "python3",
      "display_name": "Python 3"
    },
    "language_info": {
      "name": "python"
    }
  },
  "cells": [
    {
      "cell_type": "markdown",
      "metadata": {
        "id": "view-in-github",
        "colab_type": "text"
      },
      "source": [
        "<a href=\"https://colab.research.google.com/github/JolaSobera/Maczek/blob/main/ST3.ipynb\" target=\"_parent\"><img src=\"https://colab.research.google.com/assets/colab-badge.svg\" alt=\"Open In Colab\"/></a>"
      ]
    },
    {
      "cell_type": "markdown",
      "source": [
        "## Projekt"
      ],
      "metadata": {
        "id": "i9EVTSjgf5Oo"
      }
    },
    {
      "cell_type": "markdown",
      "source": [
        "## Liczby zespolone"
      ],
      "metadata": {
        "id": "DSkDiQh_gqh6"
      }
    },
    {
      "cell_type": "markdown",
      "source": [
        "liczba *urojona*\n",
        "\n",
        "  $\\sqrt{-1}=i$,\n",
        "  \n",
        "   $i^2=-1$"
      ],
      "metadata": {
        "id": "e0Rmcy3Nf3cJ"
      }
    },
    {
      "cell_type": "markdown",
      "source": [
        "Liczbą zespoloną nazywamy parę uporządkowaną liczb rzeczywistych $(a,b).$\n",
        "\n",
        "Często taką parę zapisuje się w postaci sumy\n",
        "> $z=a+bi,$\n",
        "\n",
        "gdzie  $i^2=-1.$\n",
        "\n",
        "Tę postać liczby zespolonej nazywamy **postacią kanoniczną**."
      ],
      "metadata": {
        "id": "6qLy6vNffyU1"
      }
    },
    {
      "cell_type": "markdown",
      "source": [
        "Jeżli $z=a+bi,$ to liczbę (rzeczywistą) $a$ nazywamy częścią rzeczywistą, zaś liczbę $b$ częścią urojoną liczby zespolonej $z$.\n",
        "\n",
        " $Re(z)=a$\n",
        "\n",
        "$Im(z)=b.$"
      ],
      "metadata": {
        "id": "islRuda5ih0a"
      }
    },
    {
      "cell_type": "markdown",
      "source": [
        "Liczby zespolone postaci $a + 0i$ zapisujemy jako $a$ i utożsamiamy z liczbami rzeczywistymi.\n",
        "\n",
        "Liczba zespolona jest równa zero, wtedy i tylko wtedy, gdy $Re(z) = 0$ i $Im(z) = 0$.\n"
      ],
      "metadata": {
        "id": "_TCxSJeQiP23"
      }
    },
    {
      "cell_type": "markdown",
      "source": [
        "**Liczbą sprzężoną** z liczbą $z$ nazywamy liczbę postaci $$\\bar{z}:=a-bi$$"
      ],
      "metadata": {
        "id": "SViHuZ2wkPo8"
      }
    },
    {
      "cell_type": "markdown",
      "source": [
        "**Modułem liczby** $z$ nazywamy liczbę $|z|:=\\sqrt{a^2+b^2}.$"
      ],
      "metadata": {
        "id": "RqQ9KunZkoJX"
      }
    },
    {
      "cell_type": "code",
      "source": [],
      "metadata": {
        "id": "bzf9k939kzeT"
      },
      "execution_count": null,
      "outputs": []
    },
    {
      "cell_type": "markdown",
      "source": [
        "###Geometryczne"
      ],
      "metadata": {
        "id": "x1w-dO4pj79D"
      }
    },
    {
      "cell_type": "markdown",
      "source": [
        "Liczby zespolone interpretujemy geometrycznie jako punkty płaszczyzny. Płaszczyznę, na której umieścimy liczby zespolone, nazywamy **płaszczyzną Gaussa**."
      ],
      "metadata": {
        "id": "w8KuoE-Cjc_z"
      }
    },
    {
      "cell_type": "markdown",
      "source": [
        "**Argumentem liczby** $z$ nazywamy kąt $Arg(z)=\\alpha. $\n",
        "![rys1b.JPG](data:image/jpeg;base64,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)\n"
      ],
      "metadata": {
        "id": "uFXmn2sYkz-f"
      }
    },
    {
      "cell_type": "code",
      "source": [
        "import math\n",
        "print(math.degrees(math.asin(2/(13**0.5))))"
      ],
      "metadata": {
        "colab": {
          "base_uri": "https://localhost:8080/"
        },
        "id": "uVq9m0xzd0Ih",
        "outputId": "0baa1640-a88c-466d-d2cb-c40a86a54074"
      },
      "execution_count": null,
      "outputs": [
        {
          "output_type": "stream",
          "name": "stdout",
          "text": [
            "33.69006752597979\n"
          ]
        }
      ]
    },
    {
      "cell_type": "markdown",
      "source": [
        "Przedstaw geometryczne liczbę sprzężoną"
      ],
      "metadata": {
        "id": "IxyFhNSVdskl"
      }
    },
    {
      "cell_type": "markdown",
      "source": [
        "#### Działania na liczbach zespolonych"
      ],
      "metadata": {
        "id": "HLTyl_bLlhP9"
      }
    },
    {
      "cell_type": "markdown",
      "source": [
        "Dodajemy, odejmujemy i mnożymy liczby zespolone tak, jak wyrażenia algebraiczne pamiętając, że $i^2=-1.$\n",
        "\n",
        "Zadanie\n",
        "\n",
        "Dane są liczby zespolone: $z_1=4-5i$ oraz $z_2=2+i.$\n",
        "Wykonaj działanie:\n",
        "1. $z_1+z_2=$\n",
        "2. $z_1-z_2=$\n",
        "3. $z_1 \\cdot z_2=$\n",
        "\n",
        "\n"
      ],
      "metadata": {
        "id": "MP_SSu1Qje8i"
      }
    },
    {
      "cell_type": "code",
      "source": [
        "a = complex(4,4)\n",
        "b = complex(2,1)\n",
        "c = a*b\n",
        "print(c)"
      ],
      "metadata": {
        "colab": {
          "base_uri": "https://localhost:8080/"
        },
        "id": "Ud9w9fhtmSYP",
        "outputId": "d0227e69-73d7-4fab-c75f-8397a6703ca9"
      },
      "execution_count": null,
      "outputs": [
        {
          "output_type": "stream",
          "name": "stdout",
          "text": [
            "(4+12j)\n"
          ]
        }
      ]
    },
    {
      "cell_type": "markdown",
      "source": [
        "### Postać trygonometryczna"
      ],
      "metadata": {
        "id": "LWQ8ezoVmNA4"
      }
    },
    {
      "cell_type": "markdown",
      "source": [
        "Jeżeli liczba zespolona $z$ jest różna od zera, to można jż zapisać w~tzw. postaci trygonometrycznej:\n",
        "\n",
        "$$z = a + bi = |z| \\left( \\frac{a}{|z|}+\\frac{b}{|z|}i \\right) = |z| (cos \\alpha  + i \\cdot sin \\alpha )$$"
      ],
      "metadata": {
        "id": "e52r3ozHpEcH"
      }
    },
    {
      "cell_type": "markdown",
      "source": [
        "Przedstaw w postaci trygonometrycznej liczby $z_1$ i $z_2$ ich sumę i różnicę z  przykładu powyżej."
      ],
      "metadata": {
        "id": "VX9uZmnlrnrZ"
      }
    },
    {
      "cell_type": "markdown",
      "source": [
        "Przedstaw w postaci trygonometrycznej liczby\n",
        "1. $z_3 = 1+i$\n",
        "2. $z_4 = 1$\n",
        "3. $z_5 = 1+\\sqrt{3}i$\n",
        "4. $z_6 = -2+2i$\n",
        "5. $z_7 = \\sqrt{3}-i$\n"
      ],
      "metadata": {
        "id": "W0FRIITupMQn"
      }
    },
    {
      "cell_type": "markdown",
      "source": [],
      "metadata": {
        "id": "gSLtNIqQrj1o"
      }
    },
    {
      "cell_type": "code",
      "source": [
        "a = np.complex128(2+3j)\n",
        "print(a)\n",
        "a.real\n",
        "a.imag"
      ],
      "metadata": {
        "colab": {
          "base_uri": "https://localhost:8080/"
        },
        "id": "Cy9SK1JztKd9",
        "outputId": "51b55495-e548-4d2f-f434-50095ac14477"
      },
      "execution_count": null,
      "outputs": [
        {
          "output_type": "stream",
          "name": "stdout",
          "text": [
            "(2+3j)\n"
          ]
        },
        {
          "output_type": "execute_result",
          "data": {
            "text/plain": [
              "3.0"
            ]
          },
          "metadata": {},
          "execution_count": 24
        }
      ]
    },
    {
      "cell_type": "code",
      "source": [
        "import numpy as np\n",
        "import matplotlib.pyplot as plt\n",
        "a = [1-2j,2+5j,3+0j,5+3j,6+6j,8-0j]\n",
        "A = np.array(a)\n",
        "print(A)\n",
        "print(A.real)\n",
        "print(A.imag)\n",
        "print('min(A.real),max(A.real)',min(A.real),max(A.real))\n",
        "print(\"(A.real - min(A.real))\",(A.real - min(A.real)))\n",
        "print(\"max(A.real - min(A.real))\",max(A.real - min(A.real)))\n",
        "print((A.real - min(A.real))/max(A.real - min(A.real)))\n",
        "print(\"(A.real - min(A.real))/max(A.real - min(A.real))\",(A.real - min(A.real))/max(A.real - min(A.real)))\n",
        "###Wszystko jeat w przedziale [0,1]\n",
        "\n",
        "R = (A.real - min(A.real))/max(A.real - min(A.real))*255\n",
        "print(\"R\",R)\n",
        "G = (A.imag - min(A.imag))/max(A.imag - min(A.imag))*255\n",
        "print(\"G\",G)\n",
        "B = np.zeros(R.shape)\n",
        "\n",
        "R = R.reshape((2,3))\n",
        "plt.imshow(R)##pseudocolor image\n",
        "#plt.imshow(R, cmap='gray', vmin=0, vmax = 255)\n",
        "plt.show()\n",
        "G = G.reshape((2,3))\n",
        "plt.imshow(G)\n",
        "plt.show()\n",
        "B = B.reshape((2,3))\n",
        "\n",
        "Mac = np.dstack((R,G,B))\n",
        "print(Mac)\n",
        "Mac = Mac.astype(np.uint8)\n",
        "plt.imshow(Mac)\n",
        "\n",
        "plt.show()"
      ],
      "metadata": {
        "colab": {
          "base_uri": "https://localhost:8080/",
          "height": 1000
        },
        "id": "NKlvQXnFrjY9",
        "outputId": "0d3492e5-02c1-4ba6-b83d-99be5af8c13b"
      },
      "execution_count": null,
      "outputs": [
        {
          "output_type": "stream",
          "name": "stdout",
          "text": [
            "[1.-2.j 2.+5.j 3.+0.j 5.+3.j 6.+6.j 8.+0.j]\n",
            "[1. 2. 3. 5. 6. 8.]\n",
            "[-2.  5.  0.  3.  6.  0.]\n",
            "min(A.real),max(A.real) 1.0 8.0\n",
            "(A.real - min(A.real)) [0. 1. 2. 4. 5. 7.]\n",
            "max(A.real - min(A.real)) 7.0\n",
            "[0.         0.14285714 0.28571429 0.57142857 0.71428571 1.        ]\n",
            "(A.real - min(A.real))/max(A.real - min(A.real)) [0.         0.14285714 0.28571429 0.57142857 0.71428571 1.        ]\n",
            "R [  0.          36.42857143  72.85714286 145.71428571 182.14285714\n",
            " 255.        ]\n",
            "G [  0.    223.125  63.75  159.375 255.     63.75 ]\n"
          ]
        },
        {
          "output_type": "display_data",
          "data": {
            "text/plain": [
              "<Figure size 640x480 with 1 Axes>"
            ],
            "image/png": "[encoded data removed]"
          },
          "metadata": {}
        },
        {
          "output_type": "display_data",
          "data": {
            "text/plain": [
              "<Figure size 640x480 with 1 Axes>"
            ],
            "image/png": "[encoded data removed]"
          },
          "metadata": {}
        },
        {
          "output_type": "stream",
          "name": "stdout",
          "text": [
            "[[[  0.           0.           0.        ]\n",
            "  [ 36.42857143 223.125        0.        ]\n",
            "  [ 72.85714286  63.75         0.        ]]\n",
            "\n",
            " [[145.71428571 159.375        0.        ]\n",
            "  [182.14285714 255.           0.        ]\n",
            "  [255.          63.75         0.        ]]]\n"
          ]
        },
        {
          "output_type": "display_data",
          "data": {
            "text/plain": [
              "<Figure size 640x480 with 1 Axes>"
            ],
            "image/png": "[encoded data removed]"
          },
          "metadata": {}
        }
      ]
    },
    {
      "cell_type": "code",
      "source": [],
      "metadata": {
        "id": "BtOkmENdqpLH"
      },
      "execution_count": null,
      "outputs": []
    },
    {
      "cell_type": "code",
      "source": [],
      "metadata": {
        "id": "-7Vkqo_FqjsQ"
      },
      "execution_count": null,
      "outputs": []
    },
    {
      "cell_type": "markdown",
      "source": [
        "#### Działania bitowe"
      ],
      "metadata": {
        "id": "qBLkhRSEp6t_"
      }
    },
    {
      "cell_type": "markdown",
      "source": [],
      "metadata": {
        "id": "n_YH4Ioxqe0_"
      }
    },
    {
      "cell_type": "markdown",
      "source": [
        "### Działania na macierzach"
      ],
      "metadata": {
        "id": "g0S2W70rqa0H"
      }
    },
    {
      "cell_type": "code",
      "source": [
        "import numpy as np\n",
        "import matplotlib.pyplot as plt\n",
        "a = [1,2,3,5,6,8]\n",
        "A = np.array(a)\n",
        "print(A)\n",
        "A = A.reshape((2,3))\n",
        "print(A)\n",
        "#plt.matshow(A, cmap=\"hsv\")\n",
        "plt.matshow(A, cmap=\"rainbow\")\n",
        "plt.show()\n"
      ],
      "metadata": {
        "colab": {
          "base_uri": "https://localhost:8080/",
          "height": 489
        },
        "id": "NKnSPKxpp9eb",
        "outputId": "5a38867b-b5dd-49b3-e12a-4e58477673f3"
      },
      "execution_count": null,
      "outputs": [
        {
          "output_type": "stream",
          "name": "stdout",
          "text": [
            "[1 2 3 5 6 8]\n",
            "[[1 2 3]\n",
            " [5 6 8]]\n"
          ]
        },
        {
          "output_type": "display_data",
          "data": {
            "text/plain": [
              "<Figure size 720x480 with 1 Axes>"
            ],
            "image/png": "[encoded data removed]"
          },
          "metadata": {}
        }
      ]
    },
    {
      "cell_type": "code",
      "source": [],
      "metadata": {
        "id": "GhGSDhjUqPoR"
      },
      "execution_count": null,
      "outputs": []
    }
  ]
}