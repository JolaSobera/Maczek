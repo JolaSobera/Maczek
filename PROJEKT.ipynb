{
  "cells": [
    {
      "cell_type": "markdown",
      "metadata": {
        "id": "gUGvHf3AbLnI"
      },
      "source": [
        "## MATEMATYKA 2024-2025\n"
      ]
    },
    {
      "cell_type": "markdown",
      "metadata": {
        "id": "arSo85BFbLnZ"
      },
      "source": [
        "### *Python* - dynamicznie typowany, interpretowany\n"
      ]
    },
    {
      "cell_type": "code",
      "execution_count": null,
      "metadata": {
        "id": "dRTpoq5ibLnd",
        "colab": {
          "base_uri": "https://localhost:8080/"
        },
        "outputId": "73572be3-0b62-41b2-fffd-691b71ca8c20"
      },
      "outputs": [
        {
          "output_type": "stream",
          "name": "stdout",
          "text": [
            "2434 <class 'int'>\n",
            "dasfd <class 'str'>\n"
          ]
        }
      ],
      "source": [
        "a = 2434\n",
        "print(a, type(a))\n",
        "b = a\n",
        "a  = \"dasfd\"\n",
        "print(a, type(a))"
      ]
    },
    {
      "cell_type": "markdown",
      "metadata": {
        "id": "0loJdzmebLnl"
      },
      "source": [
        "Nazwa zmiennej powinna zaczynać się z małej litery.<br/>\n",
        "Można używać tylko liter (ASCII lub Unicode), cyfr (0-9) i znaku podkreślenia ”_”. <br/>\n",
        "Python Software Foundation zdecydowała się na zastosowanie konwencji nazewniczej znanej jako `snake_case`\n",
        "Inne konwencje: `camelCase`: mojaPierwszaZmienna, `PascalCase`: MojaPierwszaZmienna, Hungarian Notation:\n",
        "`sMojaPierwszaZmienna`, s_MojaPierwszLiczba, s_mojaPierwszaLiczba\n",
        "\n",
        "Nie można <br/>\n",
        "stosować znaku łącznika zamiast podkreślenia ”-” <br/>\n",
        "używać znaków specjalnych np.:\" #, &, @, ‘ ’, ‘’ ‘’ \" <br/>\n",
        "używać spacji np.: moja Pierwsza Zmienna<br/>\n",
        "zaczynać nazwy zmiennej od cyfry np.: 1zmienna"
      ]
    },
    {
      "cell_type": "code",
      "execution_count": null,
      "metadata": {
        "id": "_ilOIjflbLno"
      },
      "outputs": [],
      "source": [
        "a1 = 0"
      ]
    },
    {
      "cell_type": "markdown",
      "metadata": {
        "id": "QGeMWQbEbLnq"
      },
      "source": [
        "Jest czy nie ma?"
      ]
    },
    {
      "cell_type": "code",
      "execution_count": null,
      "metadata": {
        "id": "EL8Abk0-bLnr",
        "colab": {
          "base_uri": "https://localhost:8080/"
        },
        "outputId": "60d1f8a7-906d-4ff4-ffce-e6fab8b09ae8"
      },
      "outputs": [
        {
          "output_type": "stream",
          "name": "stdout",
          "text": [
            "0\n"
          ]
        }
      ],
      "source": [
        "print(a1)"
      ]
    },
    {
      "cell_type": "markdown",
      "source": [
        "### Formatowanie napisów"
      ],
      "metadata": {
        "id": "Zm057oXQbnxH"
      }
    },
    {
      "cell_type": "code",
      "execution_count": null,
      "metadata": {
        "id": "Xw5QOI-CbLnw",
        "colab": {
          "base_uri": "https://localhost:8080/"
        },
        "outputId": "bc46b00c-dc25-4624-fae3-25d07fb9c2a1"
      },
      "outputs": [
        {
          "output_type": "stream",
          "name": "stdout",
          "text": [
            "223.35453635 9\n",
            "wartośc i = ******+223.35******* a = *********9\n",
            "Wartość 223.35453635\n",
            "Wartośc ************223.3545 int 9\n",
            "Wartość ****ALa ma kota***** **1.000000\n"
          ]
        }
      ],
      "source": [
        "a = 9\n",
        "i = 223.35453635#(int ,flaot, str)\n",
        "c = 1\n",
        "print(i, a)\n",
        "napis = \"ALa ma kota\"\n",
        "print(f\"wartośc i = {i:*^+20.2f} a = {a:*>10d}\")\n",
        "print(\"Wartość \" + str(i))\n",
        "print(\"Wartośc {0:*>20.4f} int {1}\".format(i,a))\n",
        "print(f\"Wartość {napis:*^20s} {c:*>10f}\")\n",
        "# f- stringi\n",
        "#typ zmiennej"
      ]
    },
    {
      "cell_type": "markdown",
      "source": [
        "##### Przykład\n"
      ],
      "metadata": {
        "id": "ZEI00MTdb7Yo"
      }
    },
    {
      "cell_type": "code",
      "execution_count": null,
      "metadata": {
        "id": "DSGRg3IfbLn1",
        "colab": {
          "base_uri": "https://localhost:8080/"
        },
        "outputId": "fd1caf63-0614-4aff-9bf6-8fa77e449087"
      },
      "outputs": [
        {
          "output_type": "stream",
          "name": "stdout",
          "text": [
            "******************Sklep u Grażynki******************\n",
            "\n",
            "Nawza towaru                 ilość Cena jed  Wartość\n",
            "paczki_z_wis_w_czek              4     4.20   +16.80\n",
            "paczki_z_wis_w_czek              4     4.20   +16.80\n",
            "\n"
          ]
        }
      ],
      "source": [
        "nazwa_sklepu = \"Sklep u Grażynki\"\n",
        "c_kule_serowe = 34.2\n",
        "c_paczki_z_wis_w_czek = 4.2\n",
        "n_paczki_z_wis_w_czek = \"paczki_z_wis_w_czek\"\n",
        "i_kule_serowe = 0.67\n",
        "i_paczki_z_wis_w_czek = 4\n",
        "n_kle_serowe = \"Kule serowe\"\n",
        "n_towaru = \"Nawza towaru\"\n",
        "c_towaru = \"Cena jed\"\n",
        "i_towaru = \"ilość\"\n",
        "wartosc = \"Wartość\"\n",
        "print(f\"{nazwa_sklepu:*^52s}\\n\")\n",
        "print(f\"{n_towaru:<25s} {i_towaru:>8s} {c_towaru:>8s} {wartosc:>8s}\")\n",
        "print(f\"{n_paczki_z_wis_w_czek:<25s} {i_paczki_z_wis_w_czek:8d} {c_paczki_z_wis_w_czek:8.2f} {i_paczki_z_wis_w_czek*c_paczki_z_wis_w_czek:+8.2f}\")\n",
        "print(f\"{n_paczki_z_wis_w_czek:<25s} {i_paczki_z_wis_w_czek:8d} {c_paczki_z_wis_w_czek:8.2f} {i_paczki_z_wis_w_czek*c_paczki_z_wis_w_czek:+8.2f}\")\n",
        "print()"
      ]
    },
    {
      "cell_type": "code",
      "execution_count": null,
      "metadata": {
        "id": "QZgFB2_hbLn6"
      },
      "outputs": [],
      "source": []
    },
    {
      "cell_type": "markdown",
      "metadata": {
        "id": "zblBny1IbLn8"
      },
      "source": [
        "##### Zadanie\n",
        "W sklepie WISIENKA NA TORCIE pączki z wiśniami i polewą czekoladową kosztują 7,2 PLN za sztukę, a kule serowe 44.8 za kg. Kupiono 4 pączki i 67 dag kul serowych. Przygotuj wydruk z paragonu.\n"
      ]
    },
    {
      "cell_type": "code",
      "execution_count": null,
      "metadata": {
        "id": "G1WfVYRMbLn_"
      },
      "outputs": [],
      "source": []
    },
    {
      "cell_type": "markdown",
      "metadata": {
        "id": "7pQDEbRmbLoA"
      },
      "source": [
        "#### Działania na napisach\n",
        "Napis (string) jest inicjowany za pomocą pojedyńczego lub podwójnego cudzysłowu."
      ]
    },
    {
      "cell_type": "code",
      "execution_count": null,
      "metadata": {
        "id": "UeswzK43bLoB",
        "colab": {
          "base_uri": "https://localhost:8080/"
        },
        "outputId": "8b9ecc30-e95a-4b2d-cf95-092b959c1f7f"
      },
      "outputs": [
        {
          "output_type": "stream",
          "name": "stdout",
          "text": [
            "Nie martw sie o 'pojedyncze' cudzyslowy.\n",
            "A teraz nie martw się o \"podwóje\" cudzysłowy.\n",
            "Trochę więcej pisania \"ale też można\".\n"
          ]
        }
      ],
      "source": [
        "napis = \"Nie martw sie o 'pojedyncze' cudzyslowy.\"\n",
        "print(napis)\n",
        "napis = 'A teraz nie martw się o \"podwóje\" cudzysłowy.'\n",
        "print(napis)\n",
        "napis = \"Trochę więcej pisania \\\"ale też można\\\".\"\n",
        "print(napis)"
      ]
    },
    {
      "cell_type": "markdown",
      "source": [
        "Trochę informacji o napisach"
      ],
      "metadata": {
        "id": "Fu2YOUruH-0o"
      }
    },
    {
      "cell_type": "code",
      "execution_count": null,
      "metadata": {
        "id": "U1luUVp2bLoD",
        "colab": {
          "base_uri": "https://localhost:8080/"
        },
        "outputId": "5567f420-8a8e-4d88-c919-396a613d48cb"
      },
      "outputs": [
        {
          "output_type": "stream",
          "name": "stdout",
          "text": [
            "Ala ma kota****i jeszcze psa****kanarki\n",
            "True\n",
            "11\n",
            "Ala ma kota\n",
            "['Al', ' m', ' kot', '']\n",
            "Al---- m---- kot----\n",
            "5\n",
            "Indeks litery p w napise: napisppp 2\n",
            "4\n",
            "NAPIS\n",
            "napis\n",
            "False\n",
            "True\n"
          ]
        }
      ],
      "source": [
        "napis = \"Ala ma kota\"\n",
        "print(napis, \"i jeszcze psa\", \"kanarki\", sep = \"****\")\n",
        "print('a' in napis)\n",
        "print (len(\"napis\"))\n",
        "print(f\"Indeks litery p w napise: napisppp {'napispppp'.index('p')}\")\n",
        "print(\"napisnnn\".count(\"n\"))\n",
        "print (\"napis\".upper())\n",
        "print(\"napis\".lower())\n",
        "print(\"to jest napis\".startswith(\"n\"))\n",
        "print (\"to jest napis\".endswith(\"napis\"))"
      ]
    },
    {
      "cell_type": "code",
      "source": [
        "text = 'bat ball'\n",
        "\n",
        "# replace 'ba' with 'ro'\n",
        "replaced_text = text.replace('ba', 'ro')\n",
        "\n",
        "print(replaced_text)"
      ],
      "metadata": {
        "id": "a3UmfsbsOZig",
        "colab": {
          "base_uri": "https://localhost:8080/"
        },
        "outputId": "3b561d93-f6b4-4643-ddac-c203d36630c2"
      },
      "execution_count": null,
      "outputs": [
        {
          "output_type": "stream",
          "name": "stdout",
          "text": [
            "rot roll\n"
          ]
        }
      ]
    },
    {
      "cell_type": "code",
      "source": [],
      "metadata": {
        "id": "jMVdvyA9Igr6"
      },
      "execution_count": null,
      "outputs": []
    },
    {
      "cell_type": "markdown",
      "metadata": {
        "id": "-M9FrVSZbLoU"
      },
      "source": [
        "#### Zadanie  Napisy\n"
      ]
    },
    {
      "cell_type": "code",
      "source": [
        "slowo = \"ANATOL\"\n",
        "print(slowo[3])\n",
        "print(slowo[1:4])"
      ],
      "metadata": {
        "colab": {
          "base_uri": "https://localhost:8080/"
        },
        "id": "OO-XeJGJbQF3",
        "outputId": "92b22bec-acb3-4888-f015-ffb6ac9b2f80"
      },
      "execution_count": null,
      "outputs": [
        {
          "output_type": "stream",
          "name": "stdout",
          "text": [
            "T\n",
            "NAT\n"
          ]
        }
      ]
    },
    {
      "cell_type": "markdown",
      "source": [
        "Utwórz zmienną zawierającą Twoje imię (imię wczytane z klawiatury)\n",
        "imie = ”Jolanta”. A nstępnie wypisz:\n",
        "- JOLANTA\n",
        "- J\\*O\\*L\\*A\\*N\\*T\\*A\n",
        "- OLA\n",
        "- JOLANATA NAZWISKO (nazwisko dodaj dowolne) -> wypisz tylko inicjały (J.N - takie są generowane np. na torebkach Louis Vuitton - na końcu nie ma kropki)\n",
        "- JOLANTA**NAZWISKO\n",
        "- ATNALOJ\n",
        "- sprawdź czy w napisie znajduje się litera wczytana z klawiatury\n",
        "- podaj długość napisu\n",
        "- podaj literę, która znajduje się na drugiej (od lewej) pozycji, na\n",
        "drugiej od końca"
      ],
      "metadata": {
        "id": "RNvXr9lphBkN"
      }
    },
    {
      "cell_type": "code",
      "execution_count": null,
      "metadata": {
        "id": "W_oS0XQfbLoV",
        "colab": {
          "base_uri": "https://localhost:8080/"
        },
        "outputId": "25a946d0-7d1b-4c96-93f8-d891643fbfe9"
      },
      "outputs": [
        {
          "output_type": "stream",
          "name": "stdout",
          "text": [
            "O t\n"
          ]
        }
      ],
      "source": [
        "imie = \"JOLANta\"\n",
        "#imie = input(\"Podaj imie \")\n",
        "nazwisko = \"NAZWISKO\"\n"
      ]
    },
    {
      "cell_type": "code",
      "source": [
        "imie = \"PAULINA\"\n",
        "nazwa = \"\"\n",
        "for znak in imie:\n",
        "    nazwa += znak + \"*\"\n",
        "print(nazwa[:-1])"
      ],
      "metadata": {
        "colab": {
          "base_uri": "https://localhost:8080/"
        },
        "id": "q1F37TtZ7S9b",
        "outputId": "d544b02d-b2e8-4f03-827b-ca6321732e01"
      },
      "execution_count": null,
      "outputs": [
        {
          "output_type": "stream",
          "name": "stdout",
          "text": [
            "P*A*U*L*I*N*A\n"
          ]
        }
      ]
    },
    {
      "cell_type": "code",
      "source": [
        "imie = \"PAULINA\"\n",
        "nazwa = \"\"\n",
        "for i in range(len(imie)):\n",
        "    if i <len(imie)-1:\n",
        "      nazwa += imie[i] + \"*\"\n",
        "    else:\n",
        "      nazwa += imie[i]\n",
        "print(nazwa)"
      ],
      "metadata": {
        "colab": {
          "base_uri": "https://localhost:8080/"
        },
        "id": "pARNJCj07rgH",
        "outputId": "64a5dd53-8733-417d-b227-5c1b838dbff1"
      },
      "execution_count": null,
      "outputs": [
        {
          "output_type": "stream",
          "name": "stdout",
          "text": [
            "P*A*U*L*I*N*A\n"
          ]
        }
      ]
    },
    {
      "cell_type": "markdown",
      "source": [
        "### Operatory i instrukcje"
      ],
      "metadata": {
        "id": "p5vNYM69jRb-"
      }
    },
    {
      "cell_type": "markdown",
      "metadata": {
        "id": "W3yvCWoKbLoW"
      },
      "source": [
        "#### `Operatory i instrukcje`\n",
        "+, -, * , / , // , \\%, \\*\\*\n",
        "kolejność działań (),\\*\\*, (*/)(+-)"
      ]
    },
    {
      "cell_type": "markdown",
      "metadata": {
        "id": "cpe4vOQcbLoW"
      },
      "source": [
        "Stringi, \"float\", \"int\" są niemutowalne = niezmienne."
      ]
    },
    {
      "cell_type": "code",
      "execution_count": null,
      "metadata": {
        "id": "yl7kXS8WbLoX",
        "colab": {
          "base_uri": "https://localhost:8080/"
        },
        "outputId": "489a5d0e-68b5-4049-c090-a91c5c9c0596"
      },
      "outputs": [
        {
          "output_type": "execute_result",
          "data": {
            "text/plain": [
              "16"
            ]
          },
          "metadata": {},
          "execution_count": 10
        }
      ],
      "source": [
        "2**3*2"
      ]
    },
    {
      "cell_type": "code",
      "execution_count": null,
      "metadata": {
        "id": "Z4otPy7XbLoX",
        "colab": {
          "base_uri": "https://localhost:8080/"
        },
        "outputId": "dd7e5e26-00d4-409d-c17b-1dec84432175"
      },
      "outputs": [
        {
          "output_type": "execute_result",
          "data": {
            "text/plain": [
              "64"
            ]
          },
          "metadata": {},
          "execution_count": 11
        }
      ],
      "source": [
        "2**(3*2)"
      ]
    },
    {
      "cell_type": "markdown",
      "metadata": {
        "id": "Qw-PD4kZbLoY"
      },
      "source": [
        "    if warunek:\n",
        "        instrukcje\n",
        "    else:\n",
        "        instrukcje"
      ]
    },
    {
      "cell_type": "markdown",
      "metadata": {
        "id": "iddOauYDbLoY"
      },
      "source": [
        "    while warunek:\n",
        "        instrukcje\n",
        "    else:\n",
        "        instrukcje"
      ]
    },
    {
      "cell_type": "markdown",
      "metadata": {
        "id": "EB3_HEF8bLoZ"
      },
      "source": [
        "    for i in sekwencja:\n",
        "        instrukcje\n",
        "    else:\n",
        "        instrukcja"
      ]
    },
    {
      "cell_type": "markdown",
      "metadata": {
        "id": "TFVE_jKubLoZ"
      },
      "source": [
        "    break, continue"
      ]
    },
    {
      "cell_type": "code",
      "execution_count": null,
      "metadata": {
        "id": "TVfk7FWobLoZ",
        "colab": {
          "base_uri": "https://localhost:8080/"
        },
        "outputId": "02212fd7-02b4-41dd-f265-c67bf5222654"
      },
      "outputs": [
        {
          "output_type": "stream",
          "name": "stdout",
          "text": [
            "0\n",
            "1\n",
            "ala\n",
            "1\n",
            "2\n",
            "ala\n",
            "2\n"
          ]
        }
      ],
      "source": [
        "i = 0\n",
        "while i < 5:\n",
        "    print(i)\n",
        "    i = i+1\n",
        "    if i > 2:\n",
        "        break#continue\n",
        "    print(i)\n",
        "    print(\"ala\")\n",
        "else:\n",
        "    print(\"Licznik równy 5 skończyłem\")\n"
      ]
    },
    {
      "cell_type": "markdown",
      "metadata": {
        "id": "3vRLrQPYbLoa"
      },
      "source": [
        "#### Zadanie 1  Suma A\n",
        "Oblicz sumę `s`. Użyj takich samych zmiennych jakie widzisz we wzorze poniżej. Użyj pętli `while`. W przypadku, gdy wzór podniesie jakiś wyjątek (błąd) użyj instrukcji warunkowej `if`, by pominąć daną liczbę w pętli. Wypisz wszystkie wyniki częściowe z dokładnością do 2 miejsc po przecinku. Ostateczny wynik zapisz w postaci wykładniczej.\n",
        "$$s = \\sum_{i=-10}^{10} \\frac{i - 1}{i - 2}$$"
      ]
    },
    {
      "cell_type": "code",
      "source": [
        "zmienna = 9/11\n",
        "print(f\"{zmienna:5.2e} {zmienna:5.2f}\")"
      ],
      "metadata": {
        "id": "PXxQWWIXwCro",
        "colab": {
          "base_uri": "https://localhost:8080/"
        },
        "outputId": "e4e295bf-2521-465e-d3b0-c97782ca1a2c"
      },
      "execution_count": null,
      "outputs": [
        {
          "output_type": "stream",
          "name": "stdout",
          "text": [
            "8.18e-01  0.82\n"
          ]
        }
      ]
    },
    {
      "cell_type": "code",
      "source": [],
      "metadata": {
        "id": "tMCd-oeW_qBA"
      },
      "execution_count": null,
      "outputs": []
    },
    {
      "cell_type": "markdown",
      "metadata": {
        "id": "RJZih8gKbLob"
      },
      "source": [
        "#### Zadanie 1  Suma B\n",
        "Oblicz sumę `s`. Użyj takich samych zmiennych jakie widzisz we wzorze poniżej. Użyj pętli `for`. W przypadku, gdy wzór podniesie jakiś wyjątek (błąd) użyj instrukcji warunkowej `if`, by pominąć daną liczbę w pętli.\n",
        "$$s = \\sum_{i=-10}^{10} \\log {i-3}$$"
      ]
    },
    {
      "cell_type": "markdown",
      "metadata": {
        "id": "CdelSBIybLoc"
      },
      "source": [
        "#### ``a,b = b,a+b?``"
      ]
    },
    {
      "cell_type": "code",
      "execution_count": null,
      "metadata": {
        "id": "phg5gGYZbLoc"
      },
      "outputs": [],
      "source": [
        "a = 1\n",
        "b = 2\n",
        "a, b = b, a + b\n",
        "print(a,b)"
      ]
    },
    {
      "cell_type": "code",
      "source": [
        "a = 1\n",
        "b = 2\n",
        "a = b\n",
        "b = a + b\n",
        "print(a,b)"
      ],
      "metadata": {
        "id": "izVv0eJFf0j_"
      },
      "execution_count": null,
      "outputs": []
    },
    {
      "cell_type": "markdown",
      "source": [
        "### SEkwencje"
      ],
      "metadata": {
        "id": "iwvSb_4HjHzP"
      }
    },
    {
      "cell_type": "markdown",
      "metadata": {
        "id": "6FL77eHlbLod"
      },
      "source": [
        "`Sekwencja` - typ danych obsługujcy operator przynależności in, funkcję określającą długość (len()) i segmentowanie ([]) oraz umożliwiający przeprowadzenie iteracji. Podczas iteracji dostarczają elementy w kolejności. Przykłady: listy ,ciągi tekstowe i krotki."
      ]
    },
    {
      "cell_type": "markdown",
      "metadata": {
        "id": "lVWNDWETbLoe"
      },
      "source": [
        "#### `Listy`\n",
        "- uporządkowana sekwencja odniesień do obiektów z  możliwością modyfikacji"
      ]
    },
    {
      "cell_type": "code",
      "execution_count": 1,
      "metadata": {
        "id": "81BTnwU7bLoe",
        "colab": {
          "base_uri": "https://localhost:8080/"
        },
        "outputId": "e461cbc8-e4c8-4508-f309-f54d651d6f53"
      },
      "outputs": [
        {
          "output_type": "stream",
          "name": "stdout",
          "text": [
            "[]\n",
            "[1, 2, 'Wenus', 'Mars']\n",
            "(3, 4, 'dsdfd')\n",
            "[] [1, 2, 'Wenus', 'Mars'] (3, 4, 'dsdfd') [3, 4, 'dsdfd'] (3, 4, 5)\n",
            "[3, 4, 'dsdfd']\n",
            "[3, 4545444, 'dsdfd']\n"
          ]
        }
      ],
      "source": [
        "#Tworzenie\n",
        "l = []\n",
        "print(l)\n",
        "l1 = [\n",
        "    1,\n",
        "    2,\n",
        "    \"Wenus\",\n",
        "    \"Mars\"\n",
        "    ]\n",
        "print(l1)\n",
        "k = (3, 4, \"dsdfd\") ### - a to krotka\n",
        "print(k)\n",
        "\n",
        "l2 = list(k)\n",
        "k2 = tuple([3,4,5])\n",
        "print (l, l1, k, l2, k2)\n",
        "print(l2)\n",
        "l2[1] = 4545444\n",
        "print (l2)"
      ]
    },
    {
      "cell_type": "code",
      "source": [
        "krotka = (2, )\n",
        "krotka += (3,)\n",
        "print(krotka)"
      ],
      "metadata": {
        "colab": {
          "base_uri": "https://localhost:8080/"
        },
        "id": "7Yv42YPqK04W",
        "outputId": "8a6a5804-9eed-42ff-a808-456731b63c46"
      },
      "execution_count": null,
      "outputs": [
        {
          "output_type": "stream",
          "name": "stdout",
          "text": [
            "(2, 3)\n"
          ]
        }
      ]
    },
    {
      "cell_type": "markdown",
      "metadata": {
        "id": "A03ArCw_bLog"
      },
      "source": [
        "#### Dzialania na listach\n",
        "- segmentowanie `lista[2:3]` `lista[-1]`\n",
        "- długość `len(lista)`\n",
        "- dodawanie elementów `lista.append(element), lista += [element]`\n"
      ]
    },
    {
      "cell_type": "markdown",
      "metadata": {
        "id": "Z9xgkRxxbLof"
      },
      "source": [
        "#### Zadanie\n",
        "- Utwórz listę osób w Twojej grupie\n",
        "- Dodaj imię wykładowcy\n",
        "- wyświetl długośc listy\n",
        "- popraw imiona wprowadzone małą literą\n",
        "- sprawdź czy podane imię znajduje się na liście - wyświetl tak /nie\n"
      ]
    },
    {
      "cell_type": "code",
      "execution_count": null,
      "metadata": {
        "id": "cSr3gNkDbLog"
      },
      "outputs": [],
      "source": []
    },
    {
      "cell_type": "markdown",
      "source": [
        "### Zadania domowe"
      ],
      "metadata": {
        "id": "V7eLuwUot45k"
      }
    },
    {
      "cell_type": "markdown",
      "metadata": {
        "id": "5qCzWYCQbLol"
      },
      "source": [
        "#### Zadanie 1\n",
        "Dane osobowe\n",
        "\n",
        "Wczytaj imię, nazwisko i numer telefonu.\n",
        "Wpisując dane popełnamy (czasami) błędy.\n",
        "Popraw dane - tzn - imię i nazwisko mają zostać wypisane z wielkiej litery.\n",
        "Sprawdź czy nie zawierają liczb. Sprawdź czy nr telefonu składa się z cyfr.\n",
        "\n",
        "Wykorzystaj funkcje\n",
        "- `isalpha, isnumeric, capitalize, `"
      ]
    },
    {
      "cell_type": "code",
      "execution_count": null,
      "metadata": {
        "id": "OcaI4wWebLon"
      },
      "outputs": [],
      "source": []
    },
    {
      "cell_type": "markdown",
      "metadata": {
        "id": "42jOlEVMbLoo"
      },
      "source": [
        "#### Zadanie  (-1, 0, 1)\n",
        "\n",
        "Napisz program, który oblicza sumę liczb w podanej liście `L` i zwracający informację (`print`)\n",
        "\n",
        "* `1` gdy suma liczb dodatnich listy `L` jest większa od wartości bezwzględnej sumy liczb ujemnych listy `L`\n",
        "* `-1` gdy wartość bezwzględna sumy liczb ujemnych listy `L` jest większa od sumy liczb dodatnich listy `L`\n",
        "* `0` gdy wartość bezwzględna sumy liczb ujemnych listy `L` jest równa sumie liczb dodatnich listy `L`\n",
        "\n",
        "Użyj pętli\n",
        "`while` (`for`)\n",
        "\n",
        "\n",
        "**Przykłady**\n",
        "\n",
        "    > L = [1, 2, 3, -4, -5] -->> -1\n",
        "    \n",
        "    > L = [1, 2, 3, -1, -2, -3] -->> 0\n",
        "    \n",
        "    > L = [1, 2, 3, -1, -2] -->> 1\n",
        "    \n",
        "**Uwaga**\n",
        "\n",
        "> **przefiltruj** elementy list podanych jako argumenty, tak by rozpatrywać **tylko liczby** w nich zawarte, np:\n",
        "\n",
        "    L = [1, 2, (19, 18), 'ala', 3, -4, -5] -->> [1, 2, 3, -4, -5] -->> -1"
      ]
    }
  ],
  "metadata": {
    "kernelspec": {
      "display_name": "Python 3 (ipykernel)",
      "language": "python",
      "name": "python3"
    },
    "language_info": {
      "codemirror_mode": {
        "name": "ipython",
        "version": 3
      },
      "file_extension": ".py",
      "mimetype": "text/x-python",
      "name": "python",
      "nbconvert_exporter": "python",
      "pygments_lexer": "ipython3",
      "version": "3.9.5"
    },
    "colab": {
      "provenance": []
    }
  },
  "nbformat": 4,
  "nbformat_minor": 0
}