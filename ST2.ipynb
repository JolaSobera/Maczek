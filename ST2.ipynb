{
  "nbformat": 4,
  "nbformat_minor": 0,
  "metadata": {
    "colab": {
      "provenance": [],
      "include_colab_link": true
    },
    "kernelspec": {
      "name": "python3",
      "display_name": "Python 3"
    },
    "language_info": {
      "name": "python"
    }
  },
  "cells": [
    {
      "cell_type": "markdown",
      "metadata": {
        "id": "view-in-github",
        "colab_type": "text"
      },
      "source": [
        "<a href=\"https://colab.research.google.com/github/JolaSobera/Maczek/blob/main/ST2.ipynb\" target=\"_parent\"><img src=\"https://colab.research.google.com/assets/colab-badge.svg\" alt=\"Open In Colab\"/></a>"
      ]
    },
    {
      "cell_type": "markdown",
      "source": [
        "### Biblioteka NUMPY"
      ],
      "metadata": {
        "id": "ySUNmeRjWShq"
      }
    },
    {
      "cell_type": "markdown",
      "source": [
        "NumPy – otwartoźródłowa biblioteka programistyczna dla języka Python, dodająca obsługę dużych, wielowymiarowych tabel i macierzy."
      ],
      "metadata": {
        "id": "QlpLxjnMW6Ip"
      }
    },
    {
      "cell_type": "markdown",
      "source": [
        "Instancje typu numpy są tablicami (wielowymiarowymi) elementów tego samego typu."
      ],
      "metadata": {
        "id": "R1tkF5q6YTCz"
      }
    },
    {
      "cell_type": "code",
      "source": [
        "import numpy as np\n",
        "a = np.arange(15).reshape(5, 3)\n",
        "print(a)"
      ],
      "metadata": {
        "id": "DALtnaCtRfn-",
        "colab": {
          "base_uri": "https://localhost:8080/"
        },
        "outputId": "59a74c45-53d8-4f0d-c8b6-b3f249e11950"
      },
      "execution_count": null,
      "outputs": [
        {
          "output_type": "stream",
          "name": "stdout",
          "text": [
            "[[ 0  1  2]\n",
            " [ 3  4  5]\n",
            " [ 6  7  8]\n",
            " [ 9 10 11]\n",
            " [12 13 14]]\n"
          ]
        }
      ]
    },
    {
      "cell_type": "code",
      "source": [
        "b = np.array([1, 23, 0.6, \"iihh\"]).reshape(2,2)\n",
        "print(b)"
      ],
      "metadata": {
        "colab": {
          "base_uri": "https://localhost:8080/"
        },
        "id": "B11DkdEsYeAT",
        "outputId": "f4603321-55ff-4657-a32b-9dc4e7c1b837"
      },
      "execution_count": null,
      "outputs": [
        {
          "output_type": "stream",
          "name": "stdout",
          "text": [
            "[['1' '23']\n",
            " ['0.6' 'iihh']]\n"
          ]
        }
      ]
    },
    {
      "cell_type": "code",
      "source": [
        "b = np.array([1, 23, 0.5, \"imi\"])\n",
        "print(b)"
      ],
      "metadata": {
        "colab": {
          "base_uri": "https://localhost:8080/"
        },
        "id": "iZTc3qu3XWw4",
        "outputId": "00d9102e-ca6f-4559-d291-6d0f9ce5f4da"
      },
      "execution_count": null,
      "outputs": [
        {
          "output_type": "stream",
          "name": "stdout",
          "text": [
            "['1' '23' '0.5' 'imi']\n"
          ]
        }
      ]
    },
    {
      "cell_type": "code",
      "source": [
        "c = np.array([[1, 2, 3], [2, 4, 5]])\n",
        "print(c)"
      ],
      "metadata": {
        "colab": {
          "base_uri": "https://localhost:8080/"
        },
        "id": "naOiVr2YYrSA",
        "outputId": "3a5d2a1a-43eb-4088-c684-f8f908398a76"
      },
      "execution_count": null,
      "outputs": [
        {
          "output_type": "stream",
          "name": "stdout",
          "text": [
            "[[1 2 3]\n",
            " [2 4 5]]\n"
          ]
        }
      ]
    },
    {
      "cell_type": "markdown",
      "source": [
        " In NumPy dimensions are called axes.\n",
        "\n",
        "    ndarray.ndim\n",
        "      the number of axes (dimensions) of the array.\n",
        "    ndarray.shape\n",
        "      the dimensions of the array. This is a tuple of integers indicating the size of the array in each dimension.\n",
        "\n",
        "    ndarray.size\n",
        "      the total number of elements of the array."
      ],
      "metadata": {
        "id": "IDxxwE-XYrfc"
      }
    },
    {
      "cell_type": "code",
      "source": [
        "print(c.ndim)"
      ],
      "metadata": {
        "colab": {
          "base_uri": "https://localhost:8080/"
        },
        "id": "BA3N5IDXXjBc",
        "outputId": "12b57b8b-d698-4d81-d6ea-292c6ba1c22f"
      },
      "execution_count": null,
      "outputs": [
        {
          "output_type": "stream",
          "name": "stdout",
          "text": [
            "2\n"
          ]
        }
      ]
    },
    {
      "cell_type": "code",
      "source": [
        "print(c.shape)"
      ],
      "metadata": {
        "colab": {
          "base_uri": "https://localhost:8080/"
        },
        "id": "mkoiFq01X4YV",
        "outputId": "142e3c20-b2b6-43b8-b433-57dd03fcc279"
      },
      "execution_count": null,
      "outputs": [
        {
          "output_type": "stream",
          "name": "stdout",
          "text": [
            "(2, 3)\n"
          ]
        }
      ]
    },
    {
      "cell_type": "code",
      "source": [
        "print(c.size)"
      ],
      "metadata": {
        "colab": {
          "base_uri": "https://localhost:8080/"
        },
        "id": "nRO7-7O3aQCJ",
        "outputId": "244bb97a-2a9e-4647-b80f-0db0a23f8d8c"
      },
      "execution_count": null,
      "outputs": [
        {
          "output_type": "stream",
          "name": "stdout",
          "text": [
            "6\n"
          ]
        }
      ]
    },
    {
      "cell_type": "markdown",
      "source": [
        "The function `zeros` creates an array full of zeros, the function `ones` creates an array full of ones, and the function `empty` creates an array whose initial content is random."
      ],
      "metadata": {
        "id": "hlxSAmCka-sa"
      }
    },
    {
      "cell_type": "code",
      "source": [
        "zero = np.zeros(5)\n",
        "zero_2 = np.zeros((2,4))\n",
        "print(zero)\n",
        "print(zero_2)"
      ],
      "metadata": {
        "colab": {
          "base_uri": "https://localhost:8080/"
        },
        "id": "liHJ-qOhaixd",
        "outputId": "ff802e95-d2d8-4860-df28-459a5f383966"
      },
      "execution_count": null,
      "outputs": [
        {
          "output_type": "stream",
          "name": "stdout",
          "text": [
            "[0. 0. 0. 0. 0.]\n",
            "[[0. 0. 0. 0.]\n",
            " [0. 0. 0. 0.]]\n"
          ]
        }
      ]
    },
    {
      "cell_type": "code",
      "source": [
        "jeden = np.ones(12).reshape(3,4)\n",
        "random = np.empty((5, 3))\n",
        "print(jeden)\n",
        "print(random)"
      ],
      "metadata": {
        "colab": {
          "base_uri": "https://localhost:8080/"
        },
        "id": "ZABc8Os8bTTO",
        "outputId": "2bc73cb6-9004-4566-fd39-bea0b2a68db1"
      },
      "execution_count": null,
      "outputs": [
        {
          "output_type": "stream",
          "name": "stdout",
          "text": [
            "[[1. 1. 1. 1.]\n",
            " [1. 1. 1. 1.]\n",
            " [1. 1. 1. 1.]]\n",
            "[[4.93720112e-310 0.00000000e+000 0.00000000e+000]\n",
            " [1.15413735e-320 2.47032823e-323 6.63424671e-310]\n",
            " [4.93818388e-310 0.00000000e+000 4.94065646e-324]\n",
            " [4.94065646e-324 0.00000000e+000 0.00000000e+000]\n",
            " [5.43472210e-323 4.93818394e-310 6.32404027e-322]]\n"
          ]
        }
      ]
    },
    {
      "cell_type": "code",
      "source": [
        "np.linspace(0, 2, 9)                   # 9 numbers from 0 to 2"
      ],
      "metadata": {
        "colab": {
          "base_uri": "https://localhost:8080/"
        },
        "id": "_xpWC2iGb1m7",
        "outputId": "a8298093-4107-4cd5-deb8-184d0ce4c34a"
      },
      "execution_count": null,
      "outputs": [
        {
          "output_type": "execute_result",
          "data": {
            "text/plain": [
              "array([0.  , 0.25, 0.5 , 0.75, 1.  , 1.25, 1.5 , 1.75, 2.  ])"
            ]
          },
          "metadata": {},
          "execution_count": 6
        }
      ]
    },
    {
      "cell_type": "markdown",
      "source": [
        "**Arithmetic operators** on arrays apply elementwise. A new array is created and filled with the result."
      ],
      "metadata": {
        "id": "nMaky8GTcliW"
      }
    },
    {
      "cell_type": "code",
      "source": [
        "A = np.array([[2, 3, 5], [3, 4, 6]])\n",
        "B = np.ones((2, 3))\n",
        "print(A)\n",
        "print(B)"
      ],
      "metadata": {
        "colab": {
          "base_uri": "https://localhost:8080/"
        },
        "id": "JRetRqLDcTj4",
        "outputId": "a2134cc1-d011-4f97-8363-8a51c1da4fdf"
      },
      "execution_count": null,
      "outputs": [
        {
          "output_type": "stream",
          "name": "stdout",
          "text": [
            "[[2 3 5]\n",
            " [3 4 6]]\n",
            "[[1. 1. 1.]\n",
            " [1. 1. 1.]]\n"
          ]
        }
      ]
    },
    {
      "cell_type": "code",
      "source": [
        "print(A + B)"
      ],
      "metadata": {
        "colab": {
          "base_uri": "https://localhost:8080/"
        },
        "id": "gNu31Hf_cx6u",
        "outputId": "13671b25-026a-4b47-e62a-b8ce0b9f712c"
      },
      "execution_count": null,
      "outputs": [
        {
          "output_type": "stream",
          "name": "stdout",
          "text": [
            "[[3. 4. 6.]\n",
            " [4. 5. 7.]]\n"
          ]
        }
      ]
    },
    {
      "cell_type": "code",
      "source": [
        "print(np.add(A, B))"
      ],
      "metadata": {
        "colab": {
          "base_uri": "https://localhost:8080/"
        },
        "id": "1Hg6bmaS5bzS",
        "outputId": "009513d7-0b8b-40c2-92a7-3a71eb0d6297"
      },
      "execution_count": null,
      "outputs": [
        {
          "output_type": "stream",
          "name": "stdout",
          "text": [
            "[[3. 4. 6.]\n",
            " [4. 5. 7.]]\n"
          ]
        }
      ]
    },
    {
      "cell_type": "markdown",
      "source": [
        "Unlike in many matrix languages, the product `operator *`  operates elementwise in NumPy arrays. The matrix product can be performed using the `@ operator` (in python >=3.5) or the `dot function` or method:"
      ],
      "metadata": {
        "id": "Pn99ZaSwdnRp"
      }
    },
    {
      "cell_type": "code",
      "source": [
        "print(A * B)"
      ],
      "metadata": {
        "colab": {
          "base_uri": "https://localhost:8080/"
        },
        "id": "8AJaOahqdLog",
        "outputId": "825140c4-b2a3-4c55-d8b6-cff1ab647475"
      },
      "execution_count": null,
      "outputs": [
        {
          "output_type": "stream",
          "name": "stdout",
          "text": [
            "[[2. 3. 5.]\n",
            " [3. 4. 6.]]\n"
          ]
        }
      ]
    },
    {
      "cell_type": "code",
      "source": [
        "print(A @ B)"
      ],
      "metadata": {
        "colab": {
          "base_uri": "https://localhost:8080/",
          "height": 141
        },
        "id": "4j2GsnBzdr4f",
        "outputId": "63fa4493-b760-45e0-8394-16f92acff37b"
      },
      "execution_count": null,
      "outputs": [
        {
          "output_type": "error",
          "ename": "ValueError",
          "evalue": "matmul: Input operand 1 has a mismatch in its core dimension 0, with gufunc signature (n?,k),(k,m?)->(n?,m?) (size 2 is different from 3)",
          "traceback": [
            "\u001b[0;31m---------------------------------------------------------------------------\u001b[0m",
            "\u001b[0;31mValueError\u001b[0m                                Traceback (most recent call last)",
            "\u001b[0;32m<ipython-input-12-d7a207d85e4b>\u001b[0m in \u001b[0;36m<cell line: 1>\u001b[0;34m()\u001b[0m\n\u001b[0;32m----> 1\u001b[0;31m \u001b[0mprint\u001b[0m\u001b[0;34m(\u001b[0m\u001b[0mA\u001b[0m \u001b[0;34m@\u001b[0m \u001b[0mB\u001b[0m\u001b[0;34m)\u001b[0m\u001b[0;34m\u001b[0m\u001b[0;34m\u001b[0m\u001b[0m\n\u001b[0m",
            "\u001b[0;31mValueError\u001b[0m: matmul: Input operand 1 has a mismatch in its core dimension 0, with gufunc signature (n?,k),(k,m?)->(n?,m?) (size 2 is different from 3)"
          ]
        }
      ]
    },
    {
      "cell_type": "code",
      "source": [
        "C = np.ones((3, 2))"
      ],
      "metadata": {
        "id": "NP0i09VsduPA"
      },
      "execution_count": null,
      "outputs": []
    },
    {
      "cell_type": "code",
      "source": [
        "print(A)\n",
        "print(C)"
      ],
      "metadata": {
        "colab": {
          "base_uri": "https://localhost:8080/"
        },
        "id": "smTL7nbHd4P3",
        "outputId": "0ca173ef-caf2-42da-f664-506a1fdafa0a"
      },
      "execution_count": null,
      "outputs": [
        {
          "output_type": "stream",
          "name": "stdout",
          "text": [
            "[[2 3 5]\n",
            " [3 4 6]]\n",
            "[[1. 1.]\n",
            " [1. 1.]\n",
            " [1. 1.]]\n"
          ]
        }
      ]
    },
    {
      "cell_type": "code",
      "source": [
        "print(A @ C)"
      ],
      "metadata": {
        "colab": {
          "base_uri": "https://localhost:8080/"
        },
        "id": "NKlJ8hEGd5el",
        "outputId": "88149539-7840-4f88-b085-d42db7a7412c"
      },
      "execution_count": null,
      "outputs": [
        {
          "output_type": "stream",
          "name": "stdout",
          "text": [
            "[[10. 10.]\n",
            " [13. 13.]]\n"
          ]
        }
      ]
    },
    {
      "cell_type": "code",
      "source": [
        "print(A.dot(C))"
      ],
      "metadata": {
        "colab": {
          "base_uri": "https://localhost:8080/"
        },
        "id": "NwHdWLs-eIBS",
        "outputId": "49ce1c94-f010-4aa7-9cd8-3a80996621aa"
      },
      "execution_count": null,
      "outputs": [
        {
          "output_type": "stream",
          "name": "stdout",
          "text": [
            "[[10. 10.]\n",
            " [13. 13.]]\n"
          ]
        }
      ]
    },
    {
      "cell_type": "code",
      "source": [],
      "metadata": {
        "id": "C4wwazve496e"
      },
      "execution_count": null,
      "outputs": []
    },
    {
      "cell_type": "markdown",
      "source": [
        " `sum`, `min`, `csum` operations apply to the array as though it were a list of numbers, regardless of its shape. However, by specifying the axis parameter you can apply an operation along the specified axis of an array:"
      ],
      "metadata": {
        "id": "NvJHOPk42rHV"
      }
    },
    {
      "cell_type": "code",
      "source": [
        "print(B)"
      ],
      "metadata": {
        "colab": {
          "base_uri": "https://localhost:8080/"
        },
        "id": "XMwh700p2zAR",
        "outputId": "ada6cbff-6956-44ce-88d6-66716df96466"
      },
      "execution_count": null,
      "outputs": [
        {
          "output_type": "stream",
          "name": "stdout",
          "text": [
            "[[1. 1. 1.]\n",
            " [1. 1. 1.]]\n"
          ]
        }
      ]
    },
    {
      "cell_type": "code",
      "source": [
        "B.sum()"
      ],
      "metadata": {
        "colab": {
          "base_uri": "https://localhost:8080/"
        },
        "id": "XM0zKO1Td7um",
        "outputId": "502841d9-a955-41ba-d87e-0124d85a99d0"
      },
      "execution_count": null,
      "outputs": [
        {
          "output_type": "execute_result",
          "data": {
            "text/plain": [
              "6.0"
            ]
          },
          "metadata": {},
          "execution_count": 22
        }
      ]
    },
    {
      "cell_type": "code",
      "source": [
        "B.sum(axis = 0 )"
      ],
      "metadata": {
        "colab": {
          "base_uri": "https://localhost:8080/"
        },
        "id": "0a7htp6q23X2",
        "outputId": "04e594cb-a0bd-4985-b3a4-c69caf485306"
      },
      "execution_count": null,
      "outputs": [
        {
          "output_type": "execute_result",
          "data": {
            "text/plain": [
              "array([2., 2., 2.])"
            ]
          },
          "metadata": {},
          "execution_count": 25
        }
      ]
    },
    {
      "cell_type": "code",
      "source": [
        "B.sum(axis = 1)"
      ],
      "metadata": {
        "colab": {
          "base_uri": "https://localhost:8080/"
        },
        "id": "rdEWtRNR27MX",
        "outputId": "80577f5b-7e10-4f40-ba11-a5d4ae4f1fea"
      },
      "execution_count": null,
      "outputs": [
        {
          "output_type": "execute_result",
          "data": {
            "text/plain": [
              "array([3., 3.])"
            ]
          },
          "metadata": {},
          "execution_count": 26
        }
      ]
    },
    {
      "cell_type": "code",
      "source": [
        "B.cumsum(axis=0)  # cumulative sum along each row"
      ],
      "metadata": {
        "colab": {
          "base_uri": "https://localhost:8080/"
        },
        "id": "ndF1xPNe3D23",
        "outputId": "53eadb5e-7246-43d4-9f67-db45c708636b"
      },
      "execution_count": null,
      "outputs": [
        {
          "output_type": "execute_result",
          "data": {
            "text/plain": [
              "array([[1., 1., 1.],\n",
              "       [2., 2., 2.]])"
            ]
          },
          "metadata": {},
          "execution_count": 27
        }
      ]
    },
    {
      "cell_type": "markdown",
      "source": [
        "NumPy provides familiar mathematical functions such as sin, cos, and exp."
      ],
      "metadata": {
        "id": "409YSPmB5puG"
      }
    },
    {
      "cell_type": "code",
      "source": [
        "print(A)\n",
        "np.log2(A)"
      ],
      "metadata": {
        "colab": {
          "base_uri": "https://localhost:8080/"
        },
        "id": "u-eoNTuH3T3H",
        "outputId": "02c97e54-0f09-4cf9-83cc-1d3a79b68e60"
      },
      "execution_count": null,
      "outputs": [
        {
          "output_type": "stream",
          "name": "stdout",
          "text": [
            "[[2 3 5]\n",
            " [3 4 6]]\n"
          ]
        },
        {
          "output_type": "execute_result",
          "data": {
            "text/plain": [
              "array([[1.        , 1.5849625 , 2.32192809],\n",
              "       [1.5849625 , 2.        , 2.5849625 ]])"
            ]
          },
          "metadata": {},
          "execution_count": 28
        }
      ]
    },
    {
      "cell_type": "code",
      "source": [
        "A**3"
      ],
      "metadata": {
        "colab": {
          "base_uri": "https://localhost:8080/"
        },
        "id": "yIlXA5zz5wQT",
        "outputId": "dd149228-a368-4585-e5c4-852193845df3"
      },
      "execution_count": null,
      "outputs": [
        {
          "output_type": "execute_result",
          "data": {
            "text/plain": [
              "array([[  8,  27, 125],\n",
              "       [ 27,  64, 216]])"
            ]
          },
          "metadata": {},
          "execution_count": 29
        }
      ]
    },
    {
      "cell_type": "markdown",
      "source": [
        "Zadanie.\n",
        "\n",
        "Wygeneruj dowolne macierze i wykonaj działania na naich."
      ],
      "metadata": {
        "id": "i1km_vskaJfA"
      }
    },
    {
      "cell_type": "markdown",
      "source": [
        "Indexing, Slicing and Iterating"
      ],
      "metadata": {
        "id": "KMv8a6J06XEj"
      }
    },
    {
      "cell_type": "code",
      "source": [
        "print(A)"
      ],
      "metadata": {
        "colab": {
          "base_uri": "https://localhost:8080/"
        },
        "id": "TpCtYcjoiopx",
        "outputId": "bccd7cf1-71c8-491e-9525-ec3046809035"
      },
      "execution_count": null,
      "outputs": [
        {
          "output_type": "stream",
          "name": "stdout",
          "text": [
            "[[2 3 5]\n",
            " [3 4 6]]\n"
          ]
        }
      ]
    },
    {
      "cell_type": "code",
      "source": [
        "M = A[::]\n",
        "print(M)"
      ],
      "metadata": {
        "colab": {
          "base_uri": "https://localhost:8080/"
        },
        "id": "xex2zfiM6SZI",
        "outputId": "b168b0f2-fd00-427c-ceec-53bc543937b2"
      },
      "execution_count": null,
      "outputs": [
        {
          "output_type": "stream",
          "name": "stdout",
          "text": [
            "[[2 3 5]\n",
            " [3 4 6]]\n"
          ]
        }
      ]
    },
    {
      "cell_type": "code",
      "source": [
        "A[1:]###A[1:,:]"
      ],
      "metadata": {
        "colab": {
          "base_uri": "https://localhost:8080/"
        },
        "id": "ELpPA6cq6iDn",
        "outputId": "edd4369b-4375-4112-9647-5191478bef43"
      },
      "execution_count": null,
      "outputs": [
        {
          "output_type": "execute_result",
          "data": {
            "text/plain": [
              "array([[3, 4, 6]])"
            ]
          },
          "metadata": {},
          "execution_count": 32
        }
      ]
    },
    {
      "cell_type": "code",
      "source": [
        "A[:1]"
      ],
      "metadata": {
        "colab": {
          "base_uri": "https://localhost:8080/"
        },
        "id": "1Hp-O7iR6gF9",
        "outputId": "76ab662e-d5a4-497b-ec7b-a784e03caf12"
      },
      "execution_count": null,
      "outputs": [
        {
          "output_type": "execute_result",
          "data": {
            "text/plain": [
              "array([[2, 3, 5]])"
            ]
          },
          "metadata": {},
          "execution_count": 76
        }
      ]
    },
    {
      "cell_type": "code",
      "source": [
        "A[:, :2]##wiersze,kolumny"
      ],
      "metadata": {
        "colab": {
          "base_uri": "https://localhost:8080/"
        },
        "id": "NbArUV-H6ofH",
        "outputId": "5b739ebf-de31-4620-8d17-c4e88167d211"
      },
      "execution_count": null,
      "outputs": [
        {
          "output_type": "execute_result",
          "data": {
            "text/plain": [
              "array([[2, 3],\n",
              "       [3, 4]])"
            ]
          },
          "metadata": {},
          "execution_count": 36
        }
      ]
    },
    {
      "cell_type": "code",
      "source": [
        "A[:,1:]"
      ],
      "metadata": {
        "colab": {
          "base_uri": "https://localhost:8080/"
        },
        "id": "8L8lSUuX6r7C",
        "outputId": "7906e50f-9f32-4b78-a26f-fd5007d10f8f"
      },
      "execution_count": null,
      "outputs": [
        {
          "output_type": "execute_result",
          "data": {
            "text/plain": [
              "array([[3, 5],\n",
              "       [4, 6]])"
            ]
          },
          "metadata": {},
          "execution_count": 36
        }
      ]
    },
    {
      "cell_type": "code",
      "source": [
        "print(A)"
      ],
      "metadata": {
        "colab": {
          "base_uri": "https://localhost:8080/"
        },
        "id": "7bSXN8nKjWgI",
        "outputId": "db3a50a9-7343-41dc-b2ce-eff179a645e2"
      },
      "execution_count": null,
      "outputs": [
        {
          "output_type": "stream",
          "name": "stdout",
          "text": [
            "[[2 3 5]\n",
            " [3 4 6]]\n"
          ]
        }
      ]
    },
    {
      "cell_type": "code",
      "source": [
        "A[::-1, :]##A[::-1,:]"
      ],
      "metadata": {
        "colab": {
          "base_uri": "https://localhost:8080/"
        },
        "id": "_sWwOJJY6yO7",
        "outputId": "dc5e90b7-0a90-4eec-eded-bf8cd3ebb74f"
      },
      "execution_count": null,
      "outputs": [
        {
          "output_type": "execute_result",
          "data": {
            "text/plain": [
              "array([[3, 4, 6],\n",
              "       [2, 3, 5]])"
            ]
          },
          "metadata": {},
          "execution_count": 37
        }
      ]
    },
    {
      "cell_type": "code",
      "source": [
        "A[:,::-1]"
      ],
      "metadata": {
        "colab": {
          "base_uri": "https://localhost:8080/"
        },
        "id": "BttUADLl68EY",
        "outputId": "0d202bbd-1b28-4fed-fbe8-7e1c3ae4ace6"
      },
      "execution_count": null,
      "outputs": [
        {
          "output_type": "execute_result",
          "data": {
            "text/plain": [
              "array([[5, 3, 2],\n",
              "       [6, 4, 3]])"
            ]
          },
          "metadata": {},
          "execution_count": 38
        }
      ]
    },
    {
      "cell_type": "code",
      "source": [
        "B = np.array([\n",
        "    [\n",
        "        [1,2,3,4],\n",
        "         [3,4,5,6]\n",
        "        ],\n",
        "    [\n",
        "        [2,3,4,5],\n",
        "        [7,8,9,1]\n",
        "        ],\n",
        "    [\n",
        "        [3,4,5,6],\n",
        "         [7,8,9,0]\n",
        "        ] ,\n",
        "    [\n",
        "        [3,4,5,6],\n",
        "         [2,3,4,5]\n",
        "        ]\n",
        "    ])"
      ],
      "metadata": {
        "id": "DChoX9hz7CBD"
      },
      "execution_count": null,
      "outputs": []
    },
    {
      "cell_type": "code",
      "source": [
        "B"
      ],
      "metadata": {
        "colab": {
          "base_uri": "https://localhost:8080/"
        },
        "id": "gzX924aG7m2B",
        "outputId": "61808e85-d1ae-4504-e231-bed06dadb509"
      },
      "execution_count": null,
      "outputs": [
        {
          "output_type": "execute_result",
          "data": {
            "text/plain": [
              "array([[[1, 2, 3, 4],\n",
              "        [3, 4, 5, 6]],\n",
              "\n",
              "       [[2, 3, 4, 5],\n",
              "        [7, 8, 9, 1]],\n",
              "\n",
              "       [[3, 4, 5, 6],\n",
              "        [7, 8, 9, 0]],\n",
              "\n",
              "       [[3, 4, 5, 6],\n",
              "        [2, 3, 4, 5]]])"
            ]
          },
          "metadata": {},
          "execution_count": 74
        }
      ]
    },
    {
      "cell_type": "code",
      "source": [
        "B[:,:,::-1]"
      ],
      "metadata": {
        "colab": {
          "base_uri": "https://localhost:8080/"
        },
        "id": "FW8VLhyoUWpa",
        "outputId": "a998b69a-15da-4143-a494-04316be0acfb"
      },
      "execution_count": null,
      "outputs": [
        {
          "output_type": "execute_result",
          "data": {
            "text/plain": [
              "array([[[4, 3, 2, 1],\n",
              "        [6, 5, 4, 3]],\n",
              "\n",
              "       [[5, 4, 3, 2],\n",
              "        [1, 9, 8, 7]],\n",
              "\n",
              "       [[6, 5, 4, 3],\n",
              "        [0, 9, 8, 7]],\n",
              "\n",
              "       [[6, 5, 4, 3],\n",
              "        [5, 4, 3, 2]]])"
            ]
          },
          "metadata": {},
          "execution_count": 80
        }
      ]
    },
    {
      "cell_type": "code",
      "source": [
        "B"
      ],
      "metadata": {
        "colab": {
          "base_uri": "https://localhost:8080/"
        },
        "id": "Wyess5AfW4SX",
        "outputId": "37d0f028-9c6a-444b-96e1-16b1fac6c6f2"
      },
      "execution_count": null,
      "outputs": [
        {
          "output_type": "execute_result",
          "data": {
            "text/plain": [
              "array([[[1, 2, 3, 4],\n",
              "        [3, 4, 5, 6]],\n",
              "\n",
              "       [[2, 3, 4, 5],\n",
              "        [7, 8, 9, 1]],\n",
              "\n",
              "       [[3, 4, 5, 6],\n",
              "        [7, 8, 9, 0]],\n",
              "\n",
              "       [[3, 4, 5, 6],\n",
              "        [2, 3, 4, 5]]])"
            ]
          },
          "metadata": {},
          "execution_count": 68
        }
      ]
    },
    {
      "cell_type": "code",
      "source": [
        "B[::-1,:,:]"
      ],
      "metadata": {
        "colab": {
          "base_uri": "https://localhost:8080/"
        },
        "id": "HSjrsIrh7n_s",
        "outputId": "795f75d8-1485-4190-dc37-27a66ab6a0f3"
      },
      "execution_count": null,
      "outputs": [
        {
          "output_type": "execute_result",
          "data": {
            "text/plain": [
              "array([[[3, 4, 5, 6],\n",
              "        [2, 3, 4, 5]],\n",
              "\n",
              "       [[3, 4, 5, 6],\n",
              "        [7, 8, 9, 0]],\n",
              "\n",
              "       [[2, 3, 4, 5],\n",
              "        [7, 8, 9, 1]],\n",
              "\n",
              "       [[1, 2, 3, 4],\n",
              "        [3, 4, 5, 6]]])"
            ]
          },
          "metadata": {},
          "execution_count": 69
        }
      ]
    },
    {
      "cell_type": "code",
      "source": [
        "B"
      ],
      "metadata": {
        "colab": {
          "base_uri": "https://localhost:8080/"
        },
        "id": "S_fyHW2vYMZm",
        "outputId": "b417f78b-5c08-43fb-bb6e-31c9db0c542d"
      },
      "execution_count": null,
      "outputs": [
        {
          "output_type": "execute_result",
          "data": {
            "text/plain": [
              "array([[[1, 2, 3, 4],\n",
              "        [3, 4, 5, 6]],\n",
              "\n",
              "       [[2, 3, 4, 5],\n",
              "        [7, 8, 9, 1]],\n",
              "\n",
              "       [[3, 4, 5, 6],\n",
              "        [7, 8, 9, 0]],\n",
              "\n",
              "       [[3, 4, 5, 6],\n",
              "        [2, 3, 4, 5]]])"
            ]
          },
          "metadata": {},
          "execution_count": 71
        }
      ]
    },
    {
      "cell_type": "code",
      "source": [
        "B[:,::-1,:]"
      ],
      "metadata": {
        "colab": {
          "base_uri": "https://localhost:8080/"
        },
        "id": "9b77K_hdYPQq",
        "outputId": "6b8f5e6b-71b5-4662-c082-2ed696ec7e6d"
      },
      "execution_count": null,
      "outputs": [
        {
          "output_type": "execute_result",
          "data": {
            "text/plain": [
              "array([[[3, 4, 5, 6],\n",
              "        [1, 2, 3, 4]],\n",
              "\n",
              "       [[7, 8, 9, 1],\n",
              "        [2, 3, 4, 5]],\n",
              "\n",
              "       [[7, 8, 9, 0],\n",
              "        [3, 4, 5, 6]],\n",
              "\n",
              "       [[2, 3, 4, 5],\n",
              "        [3, 4, 5, 6]]])"
            ]
          },
          "metadata": {},
          "execution_count": 72
        }
      ]
    },
    {
      "cell_type": "code",
      "source": [
        "B[...,::-1]"
      ],
      "metadata": {
        "colab": {
          "base_uri": "https://localhost:8080/"
        },
        "id": "N_OSeGOj7waB",
        "outputId": "19a3797b-e6d2-4542-c8a5-584804db3292"
      },
      "execution_count": null,
      "outputs": [
        {
          "output_type": "execute_result",
          "data": {
            "text/plain": [
              "array([[[4, 3, 2, 1],\n",
              "        [6, 5, 4, 3]],\n",
              "\n",
              "       [[5, 4, 3, 2],\n",
              "        [1, 9, 8, 7]],\n",
              "\n",
              "       [[6, 5, 4, 3],\n",
              "        [0, 9, 8, 7]],\n",
              "\n",
              "       [[6, 5, 4, 3],\n",
              "        [5, 4, 3, 2]]])"
            ]
          },
          "metadata": {},
          "execution_count": 70
        }
      ]
    },
    {
      "cell_type": "code",
      "source": [],
      "metadata": {
        "id": "nsE4l3dBj72I"
      },
      "execution_count": null,
      "outputs": []
    },
    {
      "cell_type": "markdown",
      "source": [
        "The dots (...) represent as many colons as needed to produce a complete indexing tuple."
      ],
      "metadata": {
        "id": "F7agCYYWy9Fl"
      }
    },
    {
      "cell_type": "markdown",
      "source": [
        "Iterating over multidimensional arrays is done with respect to the first axis:"
      ],
      "metadata": {
        "id": "vTDTNJjMzdZN"
      }
    },
    {
      "cell_type": "code",
      "source": [
        "for row in B:\n",
        "  print(row)"
      ],
      "metadata": {
        "colab": {
          "base_uri": "https://localhost:8080/"
        },
        "id": "AmeG2znB8coe",
        "outputId": "44631e7c-aaa3-42a7-98d2-8f44d7469bd8"
      },
      "execution_count": null,
      "outputs": [
        {
          "output_type": "stream",
          "name": "stdout",
          "text": [
            "[[1 2 3 4]\n",
            " [3 4 5 6]]\n",
            "[[2 3 4 5]\n",
            " [7 8 9 1]]\n",
            "[[3 4 5 6]\n",
            " [7 8 9 0]]\n",
            "[[3 4 5 6]\n",
            " [2 3 4 5]]\n"
          ]
        }
      ]
    },
    {
      "cell_type": "code",
      "source": [],
      "metadata": {
        "id": "OKBMofqfzkGw"
      },
      "execution_count": null,
      "outputs": []
    }
  ]
}